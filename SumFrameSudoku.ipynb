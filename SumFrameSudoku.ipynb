{
 "cells": [
  {
   "cell_type": "markdown",
   "metadata": {},
   "source": [
    "# Sum Frame Sudoku puzzle"
   ]
  },
  {
   "cell_type": "markdown",
   "metadata": {},
   "source": [
    "Fill in numbers from 1 to 9 so that each row, column and 3x3 block contains each number exactly once.\n",
    "Numbers in the outside frame equal the sum of the first three numbers in the corresponding row or column\n",
    "in the given direction.\n",
    "\n",
    "Find more examples [here](http://frame-sudoku.blogspot.com)"
   ]
  },
  {
   "cell_type": "markdown",
   "metadata": {},
   "source": [
    "Imports"
   ]
  },
  {
   "cell_type": "code",
   "execution_count": 83,
   "metadata": {
    "lines_to_next_cell": 1
   },
   "outputs": [],
   "source": [
    "from ortools.constraint_solver import pywrapcp\n",
    "from itertools import product"
   ]
  },
  {
   "cell_type": "markdown",
   "metadata": {},
   "source": [
    "Pretty-print board"
   ]
  },
  {
   "cell_type": "code",
   "execution_count": 84,
   "metadata": {
    "lines_to_next_cell": 1
   },
   "outputs": [],
   "source": [
    "def pretty_print(board):\n",
    "    for i in range(len(board)):\n",
    "        for j in range(len(board)):\n",
    "            print(\"[{}] \".format(board[i][j].Value()), end='')\n",
    "        print(\"\\n\")\n",
    "    print(\"\\n\\n\")"
   ]
  },
  {
   "cell_type": "markdown",
   "metadata": {},
   "source": [
    "Sudoku puzzle from slides"
   ]
  },
  {
   "cell_type": "code",
   "execution_count": 85,
   "metadata": {},
   "outputs": [],
   "source": [
    "top = [15, 18, 12, 11, 21, 13, 15, 17, 13]\n",
    "right = [22, 8, 15, 22, 12, 11, 15, 13, 17]\n",
    "bottom = [15, 9, 21, 10, 16, 19, 13, 15, 17]\n",
    "left = [8, 15, 22, 11, 13, 21, 18, 19, 8]"
   ]
  },
  {
   "cell_type": "markdown",
   "metadata": {},
   "source": [
    "And another example (commented out)"
   ]
  },
  {
   "cell_type": "code",
   "execution_count": 86,
   "metadata": {},
   "outputs": [],
   "source": [
    "# top = [21, 12, 12, 13, 14, 18, 10, 19, 16]\n",
    "# right = [20, 15, 10, 22, 8, 15, 17, 15, 13]\n",
    "# bottom = [17, 9, 19, 18, 13, 14, 23, 15, 7]\n",
    "# left = [12, 12, 21, 14, 14, 17, 14, 9, 22]"
   ]
  },
  {
   "cell_type": "markdown",
   "metadata": {},
   "source": [
    "Create constraint solver"
   ]
  },
  {
   "cell_type": "code",
   "execution_count": 87,
   "metadata": {},
   "outputs": [],
   "source": [
    "solver = pywrapcp.Solver(\"Sum Frame Sudoku\")"
   ]
  },
  {
   "cell_type": "code",
   "execution_count": 88,
   "metadata": {},
   "outputs": [],
   "source": [
    "# Type your model here ..."
   ]
  },
  {
   "cell_type": "markdown",
   "metadata": {},
   "source": [
    "Configure solver"
   ]
  },
  {
   "cell_type": "code",
   "execution_count": 89,
   "metadata": {},
   "outputs": [],
   "source": [
    "cell_size = 3\n",
    "board_size = cell_size * cell_size\n",
    "board_indices = list(product(range(board_size), repeat=2))  # tuples (i, j) for all board indices\n",
    "cell_indices = list(product(range(cell_size), repeat=2))  # tuples (i, j) for all cell indices\n",
    "board = [[solver.IntVar(1, board_size) for _j in range(board_size)] for _i in range(board_size)]"
   ]
  },
  {
   "cell_type": "markdown",
   "metadata": {},
   "source": [
    "Constraints"
   ]
  },
  {
   "cell_type": "code",
   "execution_count": 90,
   "metadata": {},
   "outputs": [],
   "source": [
    "for i in range(board_size):\n",
    "    solver.Add(solver.AllDifferent([board[i][j] for j in range(board_size)]))  # Rows\n",
    "    solver.Add(solver.AllDifferent([board[j][i] for j in range(board_size)]))  # Columns"
   ]
  },
  {
   "cell_type": "markdown",
   "metadata": {},
   "source": [
    "Each 3x3 sub-matrix contains only different values"
   ]
  },
  {
   "cell_type": "code",
   "execution_count": 91,
   "metadata": {},
   "outputs": [],
   "source": [
    "for i, j in cell_indices:\n",
    "    solver.Add(solver.AllDifferent(\n",
    "        [board[i * cell_size + di][j * cell_size + dj] for di in range(cell_size) for dj in range(cell_size)]))"
   ]
  },
  {
   "cell_type": "markdown",
   "metadata": {},
   "source": [
    "Preconditions"
   ]
  },
  {
   "cell_type": "code",
   "execution_count": 92,
   "metadata": {},
   "outputs": [],
   "source": [
    "# Top summe\n",
    "for i in range(board_size):\n",
    "    solver.Add(solver.Sum([board[j][i] for j in range(cell_size)]) == top[i])\n",
    "# left summe\n",
    "for i in range(board_size):\n",
    "    solver.Add(solver.Sum([board[i][j] for j in range(cell_size)]) == left[i])\n",
    "# bottom summe\n",
    "for i in range(board_size):\n",
    "    solver.Add(solver.Sum([board[(board_size - 1) -j][i] for j in range(cell_size)]) == bottom[i])\n",
    "\n",
    "# right summe\n",
    "for i in range(board_size):\n",
    "    solver.Add(solver.Sum([board[i][(board_size -1) - j] for j in range(cell_size)]) == right[i])"
   ]
  },
  {
   "cell_type": "code",
   "execution_count": null,
   "metadata": {},
   "outputs": [],
   "source": []
  },
  {
   "cell_type": "code",
   "execution_count": 93,
   "metadata": {},
   "outputs": [],
   "source": [
    "# Replace this by a list of decision variables\n",
    "\n",
    "\n",
    "db = solver.Phase([board[i][j] for i, j in board_indices], solver.INT_VAR_SIMPLE, solver.INT_VALUE_SIMPLE)"
   ]
  },
  {
   "cell_type": "markdown",
   "metadata": {},
   "source": [
    "Start solver"
   ]
  },
  {
   "cell_type": "code",
   "execution_count": 94,
   "metadata": {},
   "outputs": [
    {
     "name": "stdout",
     "output_type": "stream",
     "text": [
      "[1] [4] [3] [2] [8] [5] [9] [6] [7] \n",
      "\n",
      "[8] [5] [2] [6] [9] [7] [4] [3] [1] \n",
      "\n",
      "[6] [9] [7] [3] [4] [1] [2] [8] [5] \n",
      "\n",
      "[2] [3] [6] [7] [1] [4] [8] [5] [9] \n",
      "\n",
      "[4] [8] [1] [9] [5] [6] [3] [7] [2] \n",
      "\n",
      "[9] [7] [5] [8] [2] [3] [6] [1] [4] \n",
      "\n",
      "[7] [2] [9] [1] [3] [8] [5] [4] [6] \n",
      "\n",
      "[5] [6] [8] [4] [7] [2] [1] [9] [3] \n",
      "\n",
      "[3] [1] [4] [5] [6] [9] [7] [2] [8] \n",
      "\n",
      "\n",
      "\n",
      "\n"
     ]
    }
   ],
   "source": [
    "solver.NewSearch(db)\n",
    "while solver.NextSolution():\n",
    "    pretty_print(board)"
   ]
  },
  {
   "cell_type": "markdown",
   "metadata": {},
   "source": [
    "Cleanup"
   ]
  },
  {
   "cell_type": "code",
   "execution_count": 95,
   "metadata": {},
   "outputs": [],
   "source": [
    "solver.EndSearch()"
   ]
  },
  {
   "cell_type": "markdown",
   "metadata": {},
   "source": [
    "Print solver information"
   ]
  },
  {
   "cell_type": "code",
   "execution_count": 96,
   "metadata": {},
   "outputs": [
    {
     "name": "stdout",
     "output_type": "stream",
     "text": [
      "Solutions: 1\n",
      "Runtime:   10967ms\n",
      "Failures:  91\n",
      "Branches:  182 \n"
     ]
    }
   ],
   "source": [
    "print(\"Solutions: {}\".format(solver.Solutions()))\n",
    "print(\"Runtime:   {}ms\".format(solver.WallTime()))\n",
    "print(\"Failures:  {}\".format(solver.Failures()))\n",
    "print(\"Branches:  {} \".format(solver.Branches()))"
   ]
  },
  {
   "cell_type": "code",
   "execution_count": null,
   "metadata": {},
   "outputs": [],
   "source": []
  }
 ],
 "metadata": {
  "jupytext": {
   "cell_metadata_filter": "-all",
   "main_language": "python",
   "notebook_metadata_filter": "-all",
   "text_representation": {
    "extension": ".py",
    "format_name": "percent"
   }
  },
  "kernelspec": {
   "display_name": "Python 3",
   "language": "python",
   "name": "python3"
  },
  "language_info": {
   "codemirror_mode": {
    "name": "ipython",
    "version": 3
   },
   "file_extension": ".py",
   "mimetype": "text/x-python",
   "name": "python",
   "nbconvert_exporter": "python",
   "pygments_lexer": "ipython3",
   "version": "3.6.4"
  }
 },
 "nbformat": 4,
 "nbformat_minor": 2
}
